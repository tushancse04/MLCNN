{
 "cells": [
  {
   "cell_type": "code",
   "execution_count": 6,
   "metadata": {},
   "outputs": [
    {
     "name": "stdout",
     "output_type": "stream",
     "text": [
      "merge db dom sizes:\n",
      "3304 825\n",
      "sentences 3304\n",
      "ratio 3304 166735\n",
      "Epoch 1/3\n",
      "166735/166735 [==============================] - 18s 106us/step - loss: 0.0843 - acc: 0.9800\n",
      "Epoch 2/3\n",
      "166735/166735 [==============================] - 16s 98us/step - loss: 0.0779 - acc: 0.9802\n",
      "Epoch 3/3\n",
      "166735/166735 [==============================] - 16s 97us/step - loss: 0.0773 - acc: 0.9802\n"
     ]
    },
    {
     "data": {
      "text/plain": [
       "(array([0.00000000e+00, 2.44756101e-05, 2.20280490e-04, ...,\n",
       "        9.99951049e-01, 1.00000000e+00, 1.00000000e+00]),\n",
       " array([0.        , 0.        , 0.        , ..., 0.99757282, 0.99757282,\n",
       "        1.        ]),\n",
       " array([1.9979029 , 0.99790287, 0.9974909 , ..., 0.60011125, 0.5990574 ,\n",
       "        0.5985704 ], dtype=float32))"
      ]
     },
     "execution_count": 6,
     "metadata": {},
     "output_type": "execute_result"
    }
   ],
   "source": [
    "from Test_DS import Test_DS\n",
    "import matplotlib.pyplot as plt\n",
    "\n",
    "t = Test_DS()\n",
    "t.test()\n"
   ]
  },
  {
   "cell_type": "code",
   "execution_count": null,
   "metadata": {},
   "outputs": [],
   "source": []
  },
  {
   "cell_type": "code",
   "execution_count": null,
   "metadata": {},
   "outputs": [],
   "source": []
  }
 ],
 "metadata": {
  "kernelspec": {
   "display_name": "Python 3",
   "language": "python",
   "name": "python3"
  },
  "language_info": {
   "codemirror_mode": {
    "name": "ipython",
    "version": 3
   },
   "file_extension": ".py",
   "mimetype": "text/x-python",
   "name": "python",
   "nbconvert_exporter": "python",
   "pygments_lexer": "ipython3",
   "version": "3.6.5"
  }
 },
 "nbformat": 4,
 "nbformat_minor": 2
}
