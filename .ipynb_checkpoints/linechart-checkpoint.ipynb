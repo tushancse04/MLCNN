{
 "cells": [
  {
   "cell_type": "code",
   "execution_count": 4,
   "metadata": {},
   "outputs": [],
   "source": [
    "import seaborn as sns\n",
    "import numpy as np\n",
    "import pandas as pd\n",
    "import matplotlib\n",
    "matplotlib.rcParams['pdf.fonttype'] = 42\n",
    "matplotlib.rcParams['ps.fonttype'] = 42\n",
    "matplotlib.rcParams['text.usetex'] = True\n",
    "\n",
    "sns.set(style='white')\n",
    "\n"
   ]
  },
  {
   "cell_type": "code",
   "execution_count": 5,
   "metadata": {},
   "outputs": [
    {
     "data": {
      "image/png": "[encoded data removed]",
      "text/plain": [
       "<Figure size 432x288 with 1 Axes>"
      ]
     },
     "metadata": {},
     "output_type": "display_data"
    }
   ],
   "source": [
    "x = np.array([20, 50, 100, 200, 300])\n",
    "y = np.array([45, 86, 98, 114, 122])\n",
    "\n",
    "d = {'x': x, 'y': y}\n",
    "df = pd.DataFrame(d)\n",
    "ax = sns.lineplot(x='x', y='y', data=df)\n",
    "ax.set(xlabel=\"Number of atoms(k)\",ylabel=\"Time(sec)\")\n",
    "fig = ax.get_figure()\n",
    "fig.savefig(\"figs/time_images.pdf\")"
   ]
  },
  {
   "cell_type": "code",
   "execution_count": 3,
   "metadata": {
    "scrolled": true
   },
   "outputs": [
    {
     "data": {
      "image/png": "[encoded data removed]",
      "text/plain": [
       "<Figure size 432x288 with 1 Axes>"
      ]
     },
     "metadata": {},
     "output_type": "display_data"
    }
   ],
   "source": [
    "x = np.array([20, 50, 100, 200, 300])\n",
    "y = np.array([74, 75, 85, 95, 96])\n",
    "\n",
    "d = {'x': x, 'y': y}\n",
    "df = pd.DataFrame(d)\n",
    "ax = sns.lineplot(x='x', y='y', data=df)\n",
    "ax.set(xlabel=\"Number of atoms(k)\",ylabel=\"ROC-AUC\")\n",
    "fig = ax.get_figure()\n",
    "fig.savefig(\"figs/roc_images.pdf\")"
   ]
  },
  {
   "cell_type": "code",
   "execution_count": null,
   "metadata": {},
   "outputs": [],
   "source": []
  },
  {
   "cell_type": "code",
   "execution_count": null,
   "metadata": {},
   "outputs": [],
   "source": [
    "x = np.array([20, 50, 100, 200, 300])\n",
    "y = np.array([22, 28, 35, 68, 80])\n",
    "\n",
    "d = {'x': x, 'y': y}\n",
    "df = pd.DataFrame(d)\n",
    "ax = sns.lineplot(x='x', y='y', data=df)\n",
    "ax.set(xlabel=\"Number of atoms(k)\",ylabel=\"Time(sec)\")\n",
    "fig = ax.get_figure()\n",
    "fig.savefig(\"figs/time_webkb.pdf\")"
   ]
  },
  {
   "cell_type": "code",
   "execution_count": null,
   "metadata": {},
   "outputs": [],
   "source": [
    "x = np.array([20, 50, 100, 200, 300])\n",
    "y = np.array([79, 83, 82, 91, 92])\n",
    "\n",
    "d = {'x': x, 'y': y}\n",
    "df = pd.DataFrame(d)\n",
    "ax = sns.lineplot(x='x', y='y', data=df)\n",
    "ax.set(xlabel=\"Number of atoms(k)\",ylabel=\"ROC-AUC\")\n",
    "fig = ax.get_figure()\n",
    "fig.savefig(\"figs/roc_webkb.pdf\")"
   ]
  },
  {
   "cell_type": "code",
   "execution_count": null,
   "metadata": {},
   "outputs": [],
   "source": [
    "x = np.array([20, 50, 100, 200, 300])\n",
    "y = np.array([32, 45, 65, 80, 132])\n",
    "\n",
    "d = {'x': x, 'y': y}\n",
    "df = pd.DataFrame(d)\n",
    "ax = sns.lineplot(x='x', y='y', data=df)\n",
    "ax.set(xlabel=\"Number of atoms(k)\",ylabel=\"Time(sec)\")\n",
    "fig = ax.get_figure()\n",
    "fig.savefig(\"figs/time_movielens.pdf\")"
   ]
  },
  {
   "cell_type": "code",
   "execution_count": null,
   "metadata": {},
   "outputs": [],
   "source": [
    "vals = ['images',20,45,'images',50,86,'images',100,98,'images',200,114,'images',300,122]\n",
    "vals += ['webkb',20,22,'webkb',50,28,'webkb',100,35,'webkb',200,68,'webkb',300,80]\n",
    "vals += ['movielens',20,32,'movielens',50,45,'movielens',100,65,'movielens',200,80,'movielens',300,132]\n",
    "vals += ['reviews',20,85,'reviews',50,88,'reviews',100,89,'reviews',200,89,'reviews',300,89]"
   ]
  },
  {
   "cell_type": "code",
   "execution_count": null,
   "metadata": {},
   "outputs": [],
   "source": [
    "x = np.array([20, 50, 100, 200, 300])\n",
    "y = np.array([81, 84, 86, 87, 87])\n",
    "\n",
    "d = {'x': x, 'y': y}\n",
    "df = pd.DataFrame(d)\n",
    "ax = sns.lineplot(x='x', y='y', data=df)\n",
    "ax.set(xlabel=\"Number of atoms(k)\",ylabel=\"ROC-AUC\")\n",
    "fig = ax.get_figure()\n",
    "fig.savefig(\"figs/roc_movielens.pdf\")"
   ]
  },
  {
   "cell_type": "code",
   "execution_count": null,
   "metadata": {},
   "outputs": [],
   "source": [
    "x = np.array([20, 50, 100, 200, 300])\n",
    "y = np.array([2, 3, 12, 22, 28])\n",
    "\n",
    "d = {'x': x, 'y': y}\n",
    "df = pd.DataFrame(d)\n",
    "ax = sns.lineplot(x='x', y='y', data=df)\n",
    "\n",
    "fig = ax.get_figure()\n",
    "fig.savefig(\"figs/time_reviews.pdf\")"
   ]
  },
  {
   "cell_type": "code",
   "execution_count": null,
   "metadata": {},
   "outputs": [],
   "source": []
  },
  {
   "cell_type": "code",
   "execution_count": null,
   "metadata": {},
   "outputs": [],
   "source": [
    "x = np.array([20, 50, 100, 200, 300])\n",
    "y = np.array([68, 72, 82, 88, 87])\n",
    "\n",
    "d = {'x': x, 'y': y}\n",
    "df = pd.DataFrame(d)\n",
    "ax = sns.lineplot(x='x', y='y', data=df)\n",
    "ax.set(xlabel=\"Number of reviews(k)\",ylabel=\"ROC-AUC\")\n",
    "fig = ax.get_figure()\n",
    "fig.savefig(\"figs/roc_reviews.pdf\")"
   ]
  },
  {
   "cell_type": "code",
   "execution_count": null,
   "metadata": {},
   "outputs": [],
   "source": [
    "vals = ['images',20,45,'images',50,86,'images',100,98,'images',200,114,'images',300,122]\n",
    "vals += ['webkb',20,22,'webkb',50,28,'webkb',100,35,'webkb',200,68,'webkb',300,80]\n",
    "vals += ['movielens',20,32,'movielens',50,45,'movielens',100,65,'movielens',200,80,'movielens',300,132]\n",
    "vals += ['reviews',20,120,'reviews',50,180,'reviews',100,720,'reviews',200,1320,'reviews',300,1680]\n",
    "\n",
    "vals = np.array(vals)\n",
    "vals = vals.reshape(20,3)\n",
    "df = pd.DataFrame(data=vals,columns=['ds','atoms','time'])\n",
    "convert_dict = {'ds': str, 'atoms': int,'time':int} \n",
    "  \n",
    "df = df.astype(convert_dict) \n",
    "print(df.dtypes)\n",
    "g = sns.lineplot(x=\"atoms\", y=\"time\", hue=\"ds\", data=df)\n",
    "g.figure.savefig(\"figs/time.pdf\")"
   ]
  },
  {
   "cell_type": "code",
   "execution_count": null,
   "metadata": {},
   "outputs": [],
   "source": [
    "vals = ['Segmentation',20,74,'Segmentation',50,75,'Segmentation',100,85,'Segmentation',200,95,'Segmentation',300,96]\n",
    "vals += ['WebKB',20,79,'WebKB',50,83,'WebKB',100,82,'WebKB',200,91,'WebKB',300,92]\n",
    "vals += ['Movielens',20,81,'Movielens',50,84,'Movielens',100,86,'Movielens',200,87,'Movielens',300,87]\n",
    "vals += ['Yelp',20,68,'Yelp',50,72,'Yelp',100,82,'Yelp',200,88,'Yelp',300,87]\n",
    "\n",
    "vals = np.array(vals)\n",
    "vals = vals.reshape(20,3)\n",
    "df = pd.DataFrame(data=vals,columns=['benchmarks','atoms','ROC-AUC'])\n",
    "convert_dict = {'benchmarks': str, 'atoms': int,'ROC-AUC':int} \n",
    "  \n",
    "df = df.astype(convert_dict) \n",
    "print(df.dtypes)\n",
    "g = sns.lineplot(x=\"atoms\", y=\"ROC-AUC\", hue=\"benchmarks\", data=df)\n",
    "g.set(xlabel=\"Number of atoms(x1000)\")\n",
    "g.figure.savefig(\"figs/time.pdf\")"
   ]
  },
  {
   "cell_type": "code",
   "execution_count": null,
   "metadata": {},
   "outputs": [],
   "source": [
    "vals = ['α = 1, β = 0','0%',88,'α = 1, β = 0','20%',87,'α = 1, β = 0','50%',86,'α = 1, β = 0','70%',81,'α = 1, β = 0','80%',71]\n",
    "vals += ['α = 0, β = 1','0%',88,'α = 0, β = 1','20%',84,'α = 0, β = 1','50%',75,'α = 0, β = 1','70%',69,'α = 0, β = 1','80%',62]\n",
    "vals += ['α = 1, β = 1','0%',88,'α = 1, β = 1','20%',87,'α = 1, β = 1','50%',87,'α = 1, β = 1','70%',85,'α = 1, β = 1','80%',81]\n",
    "\n",
    "vals = np.array(vals)\n",
    "vals = vals.reshape(15,3)\n",
    "df = pd.DataFrame(data=vals,columns=['method','Percentage','ROC-AUC'])\n",
    "convert_dict = {'method': str, 'Percentage': str,'ROC-AUC':int} \n",
    "  \n",
    "df = df.astype(convert_dict) \n",
    "print(df.dtypes)\n",
    "g = sns.lineplot(x=\"Percentage\", y=\"ROC-AUC\", hue=\"method\", data=df)\n",
    "legend = g.legend()\n",
    "legend.texts[0].set_text(\"\")\n",
    "g.figure.savefig(\"figs/dropout_review.pdf\")"
   ]
  },
  {
   "cell_type": "code",
   "execution_count": null,
   "metadata": {},
   "outputs": [],
   "source": [
    "vals = ['α = 1, β = 0','0%',97,'α = 1, β = 0','20%',97,'α = 1, β = 0','50%',94,'α = 1, β = 0','70%',89,'α = 1, β = 0','80%',73]\n",
    "vals += ['α = 0, β = 1','0%',97,'α = 0, β = 1','20%',93,'α = 0, β = 1','50%',85,'α = 0, β = 1','70%',74,'α = 0, β = 1','80%',62]\n",
    "vals += ['α = 1, β = 1','0%',97,'α = 1, β = 1','20%',96,'α = 1, β = 1','50%',95,'α = 1, β = 1','70%',92,'α = 1, β = 1','80%',82]\n",
    "\n",
    "vals = np.array(vals)\n",
    "vals = vals.reshape(15,3)\n",
    "df = pd.DataFrame(data=vals,columns=['method','Percentage','ROC-AUC'])\n",
    "convert_dict = {'method': str, 'Percentage': str,'ROC-AUC':int} \n",
    "  \n",
    "df = df.astype(convert_dict) \n",
    "print(df.dtypes)\n",
    "g = sns.lineplot(x=\"Percentage\", y=\"ROC-AUC\", hue=\"method\", data=df)\n",
    "g.set_xticks(np.arange(1,4,1))\n",
    "legend = g.legend()\n",
    "legend.texts[0].set_text(\"\")\n",
    "g.figure.savefig(\"figs/dropout_images.pdf\")"
   ]
  },
  {
   "cell_type": "code",
   "execution_count": null,
   "metadata": {},
   "outputs": [],
   "source": [
    "vals = ['α = 1, β = 0','0%',92,'α = 1, β = 0','20%',91,'α = 1, β = 0','50%',89,'α = 1, β = 0','70%',84,'α = 1, β = 0','80%',74]\n",
    "vals += ['α = 0, β = 1','0%',92,'α = 0, β = 1','20%',86,'α = 0, β = 1','50%',80,'α = 0, β = 1','70%',71,'α = 0, β = 1','80%',64]\n",
    "vals += ['α = 1, β = 1','0%',92,'α = 1, β = 1','20%',92,'α = 1, β = 1','50%',91,'α = 1, β = 1','70%',87,'α = 1, β = 1','80%',86]\n",
    "\n",
    "vals = np.array(vals)\n",
    "vals = vals.reshape(15,3)\n",
    "df = pd.DataFrame(data=vals,columns=['method','Percentage','ROC-AUC'])\n",
    "convert_dict = {'method': str, 'Percentage': str,'ROC-AUC':int} \n",
    "  \n",
    "df = df.astype(convert_dict) \n",
    "print(df.dtypes)\n",
    "g = sns.lineplot(x=\"Percentage\", y=\"ROC-AUC\", hue=\"method\", data=df)\n",
    "legend = g.legend()\n",
    "legend.texts[0].set_text(\"\")\n",
    "g.figure.savefig(\"figs/dropout_webkb.pdf\")"
   ]
  },
  {
   "cell_type": "code",
   "execution_count": null,
   "metadata": {},
   "outputs": [],
   "source": [
    "vals = ['α = 1, β = 0','0%',87,'α = 1, β = 0','20%',87,'α = 1, β = 0','50%',84,'α = 1, β = 0','70%',75,'α = 1, β = 0','80%',70]\n",
    "vals += ['α = 0, β = 1','0%',87,'α = 0, β = 1','20%',83,'α = 0, β = 1','50%',80,'α = 0, β = 1','70%',71,'α = 0, β = 1','80%',60]\n",
    "vals += ['α = 1, β = 1','0%',87,'α = 1, β = 1','20%',87,'α = 1, β = 1','50%',86,'α = 1, β = 1','70%',84,'α = 1, β = 1','80%',79]\n",
    "\n",
    "vals = np.array(vals)\n",
    "vals = vals.reshape(15,3)\n",
    "df = pd.DataFrame(data=vals,columns=['method','Percentage','ROC-AUC'])\n",
    "convert_dict = {'method': str, 'Percentage': str,'ROC-AUC':int} \n",
    "  \n",
    "df = df.astype(convert_dict) \n",
    "print(df.dtypes)\n",
    "g = sns.lineplot(x=\"Percentage\", y=\"ROC-AUC\", hue=\"method\", data=df)\n",
    "legend = g.legend()\n",
    "legend.texts[0].set_text(\"\")\n",
    "g.figure.savefig(\"figs/dropout_movielens.pdf\")"
   ]
  },
  {
   "cell_type": "code",
   "execution_count": null,
   "metadata": {},
   "outputs": [],
   "source": [
    "vals = ['reviews',2,71,'reviews',3,75,'reviews',4,82,'reviews',5,85,'reviews',6,86]\n",
    "\n",
    "vals = np.array(vals)\n",
    "vals = vals.reshape(5,3)\n",
    "df = pd.DataFrame(data=vals,columns=['benchmarks','atoms','ROC-AUC'])\n",
    "convert_dict = {'benchmarks': str, 'atoms': int,'ROC-AUC':int} \n",
    "  \n",
    "df = df.astype(convert_dict) \n",
    "print(df.dtypes)\n",
    "g = sns.lineplot(x=\"atoms\", y=\"ROC-AUC\", hue=\"benchmarks\", data=df)\n",
    "g.set_xticks(np.arange(2,7,1))\n",
    "g.set(xlabel=\"Number of relation types\")\n",
    "g.figure.savefig(\"figs/relations.pdf\")"
   ]
  },
  {
   "cell_type": "code",
   "execution_count": null,
   "metadata": {},
   "outputs": [],
   "source": []
  },
  {
   "cell_type": "code",
   "execution_count": null,
   "metadata": {},
   "outputs": [],
   "source": []
  },
  {
   "cell_type": "code",
   "execution_count": null,
   "metadata": {},
   "outputs": [],
   "source": []
  }
 ],
 "metadata": {
  "kernelspec": {
   "display_name": "Python 3",
   "language": "python",
   "name": "python3"
  },
  "language_info": {
   "codemirror_mode": {
    "name": "ipython",
    "version": 3
   },
   "file_extension": ".py",
   "mimetype": "text/x-python",
   "name": "python",
   "nbconvert_exporter": "python",
   "pygments_lexer": "ipython3",
   "version": "3.7.4"
  }
 },
 "nbformat": 4,
 "nbformat_minor": 2
}
